{
 "cells": [
  {
   "cell_type": "markdown",
   "metadata": {},
   "source": [
    "# Housing Price Prediction Data\n",
    "*Exploratory Data Analysis (EDA)*\n",
    "\n",
    "Максимум: 2.25т. (6 клетки х 0.375т.)"
   ]
  },
  {
   "cell_type": "markdown",
   "metadata": {},
   "source": [
    "## Setup"
   ]
  },
  {
   "cell_type": "markdown",
   "metadata": {},
   "source": [
    "Първо да подсигурим, че имаме библиотеките:"
   ]
  },
  {
   "cell_type": "code",
   "execution_count": 70,
   "metadata": {
    "ExecuteTime": {
     "end_time": "2024-01-18T15:27:15.172430Z",
     "start_time": "2024-01-18T15:27:14.340502Z"
    }
   },
   "outputs": [
    {
     "name": "stdout",
     "output_type": "stream",
     "text": [
      "Requirement already satisfied: matplotlib in /Users/bmironov/Documents/University/Python/venv/lib/python3.9/site-packages (3.8.2)\r\n",
      "Requirement already satisfied: numpy in /Users/bmironov/Documents/University/Python/venv/lib/python3.9/site-packages (1.26.3)\r\n",
      "Requirement already satisfied: pandas in /Users/bmironov/Documents/University/Python/venv/lib/python3.9/site-packages (2.1.4)\r\n",
      "Requirement already satisfied: seaborn in /Users/bmironov/Documents/University/Python/venv/lib/python3.9/site-packages (0.13.1)\r\n",
      "Requirement already satisfied: contourpy>=1.0.1 in /Users/bmironov/Documents/University/Python/venv/lib/python3.9/site-packages (from matplotlib) (1.2.0)\r\n",
      "Requirement already satisfied: cycler>=0.10 in /Users/bmironov/Documents/University/Python/venv/lib/python3.9/site-packages (from matplotlib) (0.12.1)\r\n",
      "Requirement already satisfied: fonttools>=4.22.0 in /Users/bmironov/Documents/University/Python/venv/lib/python3.9/site-packages (from matplotlib) (4.47.2)\r\n",
      "Requirement already satisfied: kiwisolver>=1.3.1 in /Users/bmironov/Documents/University/Python/venv/lib/python3.9/site-packages (from matplotlib) (1.4.5)\r\n",
      "Requirement already satisfied: packaging>=20.0 in /Users/bmironov/Documents/University/Python/venv/lib/python3.9/site-packages (from matplotlib) (23.2)\r\n",
      "Requirement already satisfied: pillow>=8 in /Users/bmironov/Documents/University/Python/venv/lib/python3.9/site-packages (from matplotlib) (10.2.0)\r\n",
      "Requirement already satisfied: pyparsing>=2.3.1 in /Users/bmironov/Documents/University/Python/venv/lib/python3.9/site-packages (from matplotlib) (3.1.1)\r\n",
      "Requirement already satisfied: python-dateutil>=2.7 in /Users/bmironov/Documents/University/Python/venv/lib/python3.9/site-packages (from matplotlib) (2.8.2)\r\n",
      "Requirement already satisfied: importlib-resources>=3.2.0 in /Users/bmironov/Documents/University/Python/venv/lib/python3.9/site-packages (from matplotlib) (6.1.1)\r\n",
      "Requirement already satisfied: pytz>=2020.1 in /Users/bmironov/Documents/University/Python/venv/lib/python3.9/site-packages (from pandas) (2023.3.post1)\r\n",
      "Requirement already satisfied: tzdata>=2022.1 in /Users/bmironov/Documents/University/Python/venv/lib/python3.9/site-packages (from pandas) (2023.4)\r\n",
      "Requirement already satisfied: zipp>=3.1.0 in /Users/bmironov/Documents/University/Python/venv/lib/python3.9/site-packages (from importlib-resources>=3.2.0->matplotlib) (3.17.0)\r\n",
      "Requirement already satisfied: six>=1.5 in /Users/bmironov/Documents/University/Python/venv/lib/python3.9/site-packages (from python-dateutil>=2.7->matplotlib) (1.16.0)\r\n",
      "\r\n",
      "\u001B[1m[\u001B[0m\u001B[34;49mnotice\u001B[0m\u001B[1;39;49m]\u001B[0m\u001B[39;49m A new release of pip is available: \u001B[0m\u001B[31;49m23.2.1\u001B[0m\u001B[39;49m -> \u001B[0m\u001B[32;49m23.3.2\u001B[0m\r\n",
      "\u001B[1m[\u001B[0m\u001B[34;49mnotice\u001B[0m\u001B[1;39;49m]\u001B[0m\u001B[39;49m To update, run: \u001B[0m\u001B[32;49mpip install --upgrade pip\u001B[0m\r\n"
     ]
    }
   ],
   "source": [
    "!pip install matplotlib numpy pandas seaborn"
   ]
  },
  {
   "cell_type": "markdown",
   "metadata": {},
   "source": [
    "Тук слагайте каквито импорти ще имате:"
   ]
  },
  {
   "cell_type": "code",
   "execution_count": 71,
   "metadata": {
    "ExecuteTime": {
     "end_time": "2024-01-18T15:27:15.176316Z",
     "start_time": "2024-01-18T15:27:15.173756Z"
    }
   },
   "outputs": [],
   "source": [
    "import pandas as pd\n",
    "import seaborn as sns"
   ]
  },
  {
   "cell_type": "markdown",
   "metadata": {},
   "source": [
    "Данните се намират в CSV файл на следния път:"
   ]
  },
  {
   "cell_type": "code",
   "execution_count": 72,
   "metadata": {
    "ExecuteTime": {
     "end_time": "2024-01-18T15:27:15.180369Z",
     "start_time": "2024-01-18T15:27:15.176159Z"
    }
   },
   "outputs": [],
   "source": [
    "import os\n",
    "\n",
    "CSV_PATH = os.path.join(\"data\", \"housing_price_dataset.csv\")"
   ]
  },
  {
   "cell_type": "markdown",
   "metadata": {},
   "source": [
    "## EDA"
   ]
  },
  {
   "cell_type": "markdown",
   "metadata": {},
   "source": [
    "1. Заредете набора от данни в `pd.DataFrame` обект и покажете първите няколко реда от него."
   ]
  },
  {
   "cell_type": "code",
   "execution_count": 73,
   "metadata": {
    "ExecuteTime": {
     "end_time": "2024-01-18T15:27:15.200535Z",
     "start_time": "2024-01-18T15:27:15.179625Z"
    }
   },
   "outputs": [
    {
     "data": {
      "text/plain": "   SquareFeet  Bedrooms  Bathrooms Neighborhood  YearBuilt          Price\n0        2126         4          1        Rural       1969  215355.283618\n1        2459         3          2        Rural       1980  195014.221626\n2        1860         2          1       Suburb       1970  306891.012076\n3        2294         2          1        Urban       1996  206786.787153\n4        2130         5          2       Suburb       2001  272436.239065",
      "text/html": "<div>\n<style scoped>\n    .dataframe tbody tr th:only-of-type {\n        vertical-align: middle;\n    }\n\n    .dataframe tbody tr th {\n        vertical-align: top;\n    }\n\n    .dataframe thead th {\n        text-align: right;\n    }\n</style>\n<table border=\"1\" class=\"dataframe\">\n  <thead>\n    <tr style=\"text-align: right;\">\n      <th></th>\n      <th>SquareFeet</th>\n      <th>Bedrooms</th>\n      <th>Bathrooms</th>\n      <th>Neighborhood</th>\n      <th>YearBuilt</th>\n      <th>Price</th>\n    </tr>\n  </thead>\n  <tbody>\n    <tr>\n      <th>0</th>\n      <td>2126</td>\n      <td>4</td>\n      <td>1</td>\n      <td>Rural</td>\n      <td>1969</td>\n      <td>215355.283618</td>\n    </tr>\n    <tr>\n      <th>1</th>\n      <td>2459</td>\n      <td>3</td>\n      <td>2</td>\n      <td>Rural</td>\n      <td>1980</td>\n      <td>195014.221626</td>\n    </tr>\n    <tr>\n      <th>2</th>\n      <td>1860</td>\n      <td>2</td>\n      <td>1</td>\n      <td>Suburb</td>\n      <td>1970</td>\n      <td>306891.012076</td>\n    </tr>\n    <tr>\n      <th>3</th>\n      <td>2294</td>\n      <td>2</td>\n      <td>1</td>\n      <td>Urban</td>\n      <td>1996</td>\n      <td>206786.787153</td>\n    </tr>\n    <tr>\n      <th>4</th>\n      <td>2130</td>\n      <td>5</td>\n      <td>2</td>\n      <td>Suburb</td>\n      <td>2001</td>\n      <td>272436.239065</td>\n    </tr>\n  </tbody>\n</table>\n</div>"
     },
     "execution_count": 73,
     "metadata": {},
     "output_type": "execute_result"
    }
   ],
   "source": [
    "df = pd.read_csv(CSV_PATH)\n",
    "df.head()"
   ]
  },
  {
   "cell_type": "markdown",
   "metadata": {},
   "source": [
    "2. Изведете основни статистики за числовите колони (mean, std, min, max, percentiles)."
   ]
  },
  {
   "cell_type": "code",
   "execution_count": 74,
   "metadata": {
    "ExecuteTime": {
     "end_time": "2024-01-18T15:27:15.210248Z",
     "start_time": "2024-01-18T15:27:15.198086Z"
    }
   },
   "outputs": [
    {
     "data": {
      "text/plain": "         SquareFeet      Bedrooms     Bathrooms     YearBuilt          Price\ncount  50000.000000  50000.000000  50000.000000  50000.000000   50000.000000\nmean    2006.374680      3.498700      1.995420   1985.404420  224827.325151\nstd      575.513241      1.116326      0.815851     20.719377   76141.842966\nmin     1000.000000      2.000000      1.000000   1950.000000  -36588.165397\n25%     1513.000000      3.000000      1.000000   1967.000000  169955.860225\n50%     2007.000000      3.000000      2.000000   1985.000000  225052.141166\n75%     2506.000000      4.000000      3.000000   2003.000000  279373.630052\nmax     2999.000000      5.000000      3.000000   2021.000000  492195.259972",
      "text/html": "<div>\n<style scoped>\n    .dataframe tbody tr th:only-of-type {\n        vertical-align: middle;\n    }\n\n    .dataframe tbody tr th {\n        vertical-align: top;\n    }\n\n    .dataframe thead th {\n        text-align: right;\n    }\n</style>\n<table border=\"1\" class=\"dataframe\">\n  <thead>\n    <tr style=\"text-align: right;\">\n      <th></th>\n      <th>SquareFeet</th>\n      <th>Bedrooms</th>\n      <th>Bathrooms</th>\n      <th>YearBuilt</th>\n      <th>Price</th>\n    </tr>\n  </thead>\n  <tbody>\n    <tr>\n      <th>count</th>\n      <td>50000.000000</td>\n      <td>50000.000000</td>\n      <td>50000.000000</td>\n      <td>50000.000000</td>\n      <td>50000.000000</td>\n    </tr>\n    <tr>\n      <th>mean</th>\n      <td>2006.374680</td>\n      <td>3.498700</td>\n      <td>1.995420</td>\n      <td>1985.404420</td>\n      <td>224827.325151</td>\n    </tr>\n    <tr>\n      <th>std</th>\n      <td>575.513241</td>\n      <td>1.116326</td>\n      <td>0.815851</td>\n      <td>20.719377</td>\n      <td>76141.842966</td>\n    </tr>\n    <tr>\n      <th>min</th>\n      <td>1000.000000</td>\n      <td>2.000000</td>\n      <td>1.000000</td>\n      <td>1950.000000</td>\n      <td>-36588.165397</td>\n    </tr>\n    <tr>\n      <th>25%</th>\n      <td>1513.000000</td>\n      <td>3.000000</td>\n      <td>1.000000</td>\n      <td>1967.000000</td>\n      <td>169955.860225</td>\n    </tr>\n    <tr>\n      <th>50%</th>\n      <td>2007.000000</td>\n      <td>3.000000</td>\n      <td>2.000000</td>\n      <td>1985.000000</td>\n      <td>225052.141166</td>\n    </tr>\n    <tr>\n      <th>75%</th>\n      <td>2506.000000</td>\n      <td>4.000000</td>\n      <td>3.000000</td>\n      <td>2003.000000</td>\n      <td>279373.630052</td>\n    </tr>\n    <tr>\n      <th>max</th>\n      <td>2999.000000</td>\n      <td>5.000000</td>\n      <td>3.000000</td>\n      <td>2021.000000</td>\n      <td>492195.259972</td>\n    </tr>\n  </tbody>\n</table>\n</div>"
     },
     "execution_count": 74,
     "metadata": {},
     "output_type": "execute_result"
    }
   ],
   "source": [
    "df.describe()"
   ]
  },
  {
   "cell_type": "markdown",
   "metadata": {},
   "source": [
    "*Нещо странно дали забелязваме?*"
   ]
  },
  {
   "cell_type": "markdown",
   "metadata": {},
   "source": [
    "3. Премахнете записите, които имат цена 0 или отрицателно число."
   ]
  },
  {
   "cell_type": "code",
   "execution_count": 75,
   "metadata": {
    "ExecuteTime": {
     "end_time": "2024-01-18T15:27:15.221650Z",
     "start_time": "2024-01-18T15:27:15.208491Z"
    }
   },
   "outputs": [
    {
     "data": {
      "text/plain": "         SquareFeet      Bedrooms     Bathrooms     YearBuilt          Price\ncount  49978.000000  49978.000000  49978.000000  49978.000000   49978.000000\nmean    2006.752551      3.498659      1.995458   1985.404338  224931.667960\nstd      575.350298      1.116325      0.815859     20.718407   75995.682992\nmin     1000.000000      2.000000      1.000000   1950.000000     154.779120\n25%     1514.000000      3.000000      1.000000   1967.000000  170007.487130\n50%     2008.000000      3.000000      2.000000   1985.000000  225100.123857\n75%     2506.000000      4.000000      3.000000   2003.000000  279395.826288\nmax     2999.000000      5.000000      3.000000   2021.000000  492195.259972",
      "text/html": "<div>\n<style scoped>\n    .dataframe tbody tr th:only-of-type {\n        vertical-align: middle;\n    }\n\n    .dataframe tbody tr th {\n        vertical-align: top;\n    }\n\n    .dataframe thead th {\n        text-align: right;\n    }\n</style>\n<table border=\"1\" class=\"dataframe\">\n  <thead>\n    <tr style=\"text-align: right;\">\n      <th></th>\n      <th>SquareFeet</th>\n      <th>Bedrooms</th>\n      <th>Bathrooms</th>\n      <th>YearBuilt</th>\n      <th>Price</th>\n    </tr>\n  </thead>\n  <tbody>\n    <tr>\n      <th>count</th>\n      <td>49978.000000</td>\n      <td>49978.000000</td>\n      <td>49978.000000</td>\n      <td>49978.000000</td>\n      <td>49978.000000</td>\n    </tr>\n    <tr>\n      <th>mean</th>\n      <td>2006.752551</td>\n      <td>3.498659</td>\n      <td>1.995458</td>\n      <td>1985.404338</td>\n      <td>224931.667960</td>\n    </tr>\n    <tr>\n      <th>std</th>\n      <td>575.350298</td>\n      <td>1.116325</td>\n      <td>0.815859</td>\n      <td>20.718407</td>\n      <td>75995.682992</td>\n    </tr>\n    <tr>\n      <th>min</th>\n      <td>1000.000000</td>\n      <td>2.000000</td>\n      <td>1.000000</td>\n      <td>1950.000000</td>\n      <td>154.779120</td>\n    </tr>\n    <tr>\n      <th>25%</th>\n      <td>1514.000000</td>\n      <td>3.000000</td>\n      <td>1.000000</td>\n      <td>1967.000000</td>\n      <td>170007.487130</td>\n    </tr>\n    <tr>\n      <th>50%</th>\n      <td>2008.000000</td>\n      <td>3.000000</td>\n      <td>2.000000</td>\n      <td>1985.000000</td>\n      <td>225100.123857</td>\n    </tr>\n    <tr>\n      <th>75%</th>\n      <td>2506.000000</td>\n      <td>4.000000</td>\n      <td>3.000000</td>\n      <td>2003.000000</td>\n      <td>279395.826288</td>\n    </tr>\n    <tr>\n      <th>max</th>\n      <td>2999.000000</td>\n      <td>5.000000</td>\n      <td>3.000000</td>\n      <td>2021.000000</td>\n      <td>492195.259972</td>\n    </tr>\n  </tbody>\n</table>\n</div>"
     },
     "execution_count": 75,
     "metadata": {},
     "output_type": "execute_result"
    }
   ],
   "source": [
    "df = df[df['Price'] > 0]\n",
    "df.describe()"
   ]
  },
  {
   "cell_type": "markdown",
   "metadata": {},
   "source": [
    "4. Направете хистограма на цените на жилищата.\n",
    "\n",
    "*Hint: за най-лесно ползвайте `.hist()` на `pd.Series`*\n",
    "\n",
    "*Може да контролирате раздробеността с именования аргумент `bins`*"
   ]
  },
  {
   "cell_type": "code",
   "execution_count": 76,
   "metadata": {
    "ExecuteTime": {
     "end_time": "2024-01-18T15:27:15.423247Z",
     "start_time": "2024-01-18T15:27:15.220788Z"
    }
   },
   "outputs": [
    {
     "data": {
      "text/plain": "<Axes: >"
     },
     "execution_count": 76,
     "metadata": {},
     "output_type": "execute_result"
    },
    {
     "data": {
      "text/plain": "<Figure size 640x480 with 1 Axes>",
      "image/png": "[encoded data removed]"
     },
     "metadata": {},
     "output_type": "display_data"
    }
   ],
   "source": [
    "pd.Series(df['Price']).hist(bins=50)"
   ]
  },
  {
   "cell_type": "markdown",
   "metadata": {},
   "source": [
    "*Какъв забелязваме да е видът на разпределението?*"
   ]
  },
  {
   "cell_type": "markdown",
   "metadata": {},
   "source": [
    "5. Нека видим колко записа от всяка категория имаме. Направете barplot на броя на жилищата от всяка от трите 'Neighborhood' категории ('Rural', 'Suburb', 'Urban').\n",
    "\n",
    "*Hint: за най-лесно може да ползвате `sns.countplot`*"
   ]
  },
  {
   "cell_type": "code",
   "execution_count": 77,
   "outputs": [
    {
     "data": {
      "text/plain": "   SquareFeet  Bedrooms  Bathrooms Neighborhood  YearBuilt          Price\n0        2126         4          1        Rural       1969  215355.283618\n1        2459         3          2        Rural       1980  195014.221626\n2        1860         2          1       Suburb       1970  306891.012076\n3        2294         2          1        Urban       1996  206786.787153\n4        2130         5          2       Suburb       2001  272436.239065",
      "text/html": "<div>\n<style scoped>\n    .dataframe tbody tr th:only-of-type {\n        vertical-align: middle;\n    }\n\n    .dataframe tbody tr th {\n        vertical-align: top;\n    }\n\n    .dataframe thead th {\n        text-align: right;\n    }\n</style>\n<table border=\"1\" class=\"dataframe\">\n  <thead>\n    <tr style=\"text-align: right;\">\n      <th></th>\n      <th>SquareFeet</th>\n      <th>Bedrooms</th>\n      <th>Bathrooms</th>\n      <th>Neighborhood</th>\n      <th>YearBuilt</th>\n      <th>Price</th>\n    </tr>\n  </thead>\n  <tbody>\n    <tr>\n      <th>0</th>\n      <td>2126</td>\n      <td>4</td>\n      <td>1</td>\n      <td>Rural</td>\n      <td>1969</td>\n      <td>215355.283618</td>\n    </tr>\n    <tr>\n      <th>1</th>\n      <td>2459</td>\n      <td>3</td>\n      <td>2</td>\n      <td>Rural</td>\n      <td>1980</td>\n      <td>195014.221626</td>\n    </tr>\n    <tr>\n      <th>2</th>\n      <td>1860</td>\n      <td>2</td>\n      <td>1</td>\n      <td>Suburb</td>\n      <td>1970</td>\n      <td>306891.012076</td>\n    </tr>\n    <tr>\n      <th>3</th>\n      <td>2294</td>\n      <td>2</td>\n      <td>1</td>\n      <td>Urban</td>\n      <td>1996</td>\n      <td>206786.787153</td>\n    </tr>\n    <tr>\n      <th>4</th>\n      <td>2130</td>\n      <td>5</td>\n      <td>2</td>\n      <td>Suburb</td>\n      <td>2001</td>\n      <td>272436.239065</td>\n    </tr>\n  </tbody>\n</table>\n</div>"
     },
     "execution_count": 77,
     "metadata": {},
     "output_type": "execute_result"
    }
   ],
   "source": [
    "df.head()"
   ],
   "metadata": {
    "collapsed": false,
    "ExecuteTime": {
     "end_time": "2024-01-18T15:27:15.423796Z",
     "start_time": "2024-01-18T15:27:15.370422Z"
    }
   }
  },
  {
   "cell_type": "code",
   "execution_count": 78,
   "metadata": {
    "ExecuteTime": {
     "end_time": "2024-01-18T15:27:15.539377Z",
     "start_time": "2024-01-18T15:27:15.376770Z"
    }
   },
   "outputs": [
    {
     "data": {
      "text/plain": "<Axes: xlabel='Neighborhood', ylabel='count'>"
     },
     "execution_count": 78,
     "metadata": {},
     "output_type": "execute_result"
    },
    {
     "data": {
      "text/plain": "<Figure size 640x480 with 1 Axes>",
      "image/png": "[encoded data removed]"
     },
     "metadata": {},
     "output_type": "display_data"
    }
   ],
   "source": [
    "sns.countplot(data=df, x=\"Neighborhood\")"
   ]
  },
  {
   "cell_type": "markdown",
   "metadata": {},
   "source": [
    "6. Покажете boxplot на дистрибуцията на цените на жилищата във всяка от трите 'Neighborhood' категории."
   ]
  },
  {
   "cell_type": "code",
   "execution_count": 79,
   "outputs": [
    {
     "data": {
      "text/plain": "<Axes: xlabel='Neighborhood', ylabel='Price'>"
     },
     "execution_count": 79,
     "metadata": {},
     "output_type": "execute_result"
    },
    {
     "data": {
      "text/plain": "<Figure size 640x480 with 1 Axes>",
      "image/png": "[encoded data removed]"
     },
     "metadata": {},
     "output_type": "display_data"
    }
   ],
   "source": [
    "sns.boxplot(data=df, x='Neighborhood', y='Price')"
   ],
   "metadata": {
    "collapsed": false,
    "ExecuteTime": {
     "end_time": "2024-01-18T15:27:15.644669Z",
     "start_time": "2024-01-18T15:27:15.545566Z"
    }
   }
  },
  {
   "cell_type": "markdown",
   "metadata": {},
   "source": [
    "*Има ли значение в коя част на града се намира жилището? Това според вас адекватно ли отразява реалния живот или е възможно данните да са измислени?*"
   ]
  }
 ],
 "metadata": {
  "kernelspec": {
   "display_name": "Python 3",
   "language": "python",
   "name": "python3"
  },
  "language_info": {
   "codemirror_mode": {
    "name": "ipython",
    "version": 3
   },
   "file_extension": ".py",
   "mimetype": "text/x-python",
   "name": "python",
   "nbconvert_exporter": "python",
   "pygments_lexer": "ipython3",
   "version": "3.11.6"
  }
 },
 "nbformat": 4,
 "nbformat_minor": 2
}
